{
  "nbformat": 4,
  "nbformat_minor": 0,
  "metadata": {
    "colab": {
      "provenance": [],
      "gpuType": "T4"
    },
    "kernelspec": {
      "name": "python3",
      "display_name": "Python 3"
    },
    "language_info": {
      "name": "python"
    },
    "accelerator": "GPU"
  },
  "cells": [
    {
      "cell_type": "code",
      "execution_count": 1,
      "metadata": {
        "id": "6DAsujm_q9jT",
        "colab": {
          "base_uri": "https://localhost:8080/"
        },
        "outputId": "7819cca9-a588-4c6a-d6ba-c16d9cfa7faa"
      },
      "outputs": [
        {
          "output_type": "execute_result",
          "data": {
            "text/plain": [
              "True"
            ]
          },
          "metadata": {},
          "execution_count": 1
        }
      ],
      "source": [
        "import torch.nn as nn\n",
        "import pandas as pd\n",
        "import torch\n",
        "from torch.optim import Adam\n",
        "from torch.utils.data import Dataset, DataLoader\n",
        "\n",
        "device = torch.device(\"cuda\" if torch.cuda.is_available() else \"cpu\")\n",
        "torch.cuda.is_available()"
      ]
    },
    {
      "cell_type": "code",
      "source": [
        "train_df = pd.read_csv(\"sign_mnist_train.csv\")\n",
        "valid_df = pd.read_csv(\"sign_mnist_valid.csv\")"
      ],
      "metadata": {
        "id": "9N2nut_ipNbs"
      },
      "execution_count": 2,
      "outputs": []
    },
    {
      "cell_type": "code",
      "source": [
        "sample_df = train_df.head().copy()\n",
        "sample_df.pop('label')\n",
        "sample_x = sample_df.values\n",
        "sample_x"
      ],
      "metadata": {
        "colab": {
          "base_uri": "https://localhost:8080/"
        },
        "id": "vVGbmqAwpok5",
        "outputId": "f89cfb50-d1fc-4ca0-a5c8-af16b9b9a7b6"
      },
      "execution_count": 5,
      "outputs": [
        {
          "output_type": "execute_result",
          "data": {
            "text/plain": [
              "array([[107, 118, 127, ..., 204, 203, 202],\n",
              "       [155, 157, 156, ..., 103, 135, 149],\n",
              "       [187, 188, 188, ..., 195, 194, 195],\n",
              "       [211, 211, 212, ..., 222, 229, 163],\n",
              "       [164, 167, 170, ..., 163, 164, 179]])"
            ]
          },
          "metadata": {},
          "execution_count": 5
        }
      ]
    },
    {
      "cell_type": "code",
      "source": [
        "sample_x.shape"
      ],
      "metadata": {
        "colab": {
          "base_uri": "https://localhost:8080/"
        },
        "id": "iYO6Us3vp8P_",
        "outputId": "e01ed58e-b756-4bb0-eb52-058ba7ddcfed"
      },
      "execution_count": 6,
      "outputs": [
        {
          "output_type": "execute_result",
          "data": {
            "text/plain": [
              "(5, 784)"
            ]
          },
          "metadata": {},
          "execution_count": 6
        }
      ]
    },
    {
      "cell_type": "code",
      "source": [
        "img_height = 28\n",
        "img_width = 28\n",
        "img_chs = 1\n",
        "\n",
        "sample_x = sample_x.reshape(-1, img_chs, img_height, img_width)\n",
        "sample_x.shape"
      ],
      "metadata": {
        "colab": {
          "base_uri": "https://localhost:8080/"
        },
        "id": "AXZp4-i6q2Je",
        "outputId": "1e768ecd-f64d-4150-cbd0-a0d6ea735e5d"
      },
      "execution_count": 7,
      "outputs": [
        {
          "output_type": "execute_result",
          "data": {
            "text/plain": [
              "(5, 1, 28, 28)"
            ]
          },
          "metadata": {},
          "execution_count": 7
        }
      ]
    },
    {
      "cell_type": "markdown",
      "source": [
        "#Create Dataset"
      ],
      "metadata": {
        "id": "JEVTxAF9ulH4"
      }
    },
    {
      "cell_type": "code",
      "source": [
        "class MyDataset(Dataset):\n",
        "  def __init__(self, base_df):\n",
        "    x_df = base_df.copy()\n",
        "    y_df = x_df.pop('label')\n",
        "    x_df = x_df.values / 255\n",
        "    x_df = x_df.reshape(-1, img_chs, img_width, img_height)\n",
        "    self.xs = torch.tensor(x_df).float().to(device)\n",
        "    self.ys = torch.tensor(y_df).to(device)\n",
        "\n",
        "  def __getitem__(self, idx):\n",
        "    x = self.xs[idx]\n",
        "    y = self.ys[idx]\n",
        "    return x, y\n",
        "\n",
        "  def __len__(self):\n",
        "    return len(self.xs)"
      ],
      "metadata": {
        "id": "uluWep4WrFUR"
      },
      "execution_count": 17,
      "outputs": []
    },
    {
      "cell_type": "code",
      "source": [
        "BATCH_SIZE = 32\n",
        "\n",
        "train_data = MyDataset(train_df)\n",
        "train_loader = DataLoader(train_data, batch_size=BATCH_SIZE, shuffle=True)\n",
        "train_N = len(train_loader.dataset)\n",
        "\n",
        "valid_data = MyDataset(valid_df)\n",
        "valid_loader = DataLoader(valid_data, batch_size=BATCH_SIZE)\n",
        "valid_N = len(valid_loader.dataset)"
      ],
      "metadata": {
        "id": "PajYVQRlug6S"
      },
      "execution_count": 18,
      "outputs": []
    },
    {
      "cell_type": "code",
      "source": [
        "batch = next(iter(train_loader))\n",
        "batch"
      ],
      "metadata": {
        "colab": {
          "base_uri": "https://localhost:8080/"
        },
        "collapsed": true,
        "id": "7E0hS1NdvD2C",
        "outputId": "b0242581-b502-432e-c988-d43b49c45b34"
      },
      "execution_count": 19,
      "outputs": [
        {
          "output_type": "execute_result",
          "data": {
            "text/plain": [
              "[tensor([[[[0.6784, 0.6863, 0.6980,  ..., 0.7804, 0.7725, 0.7686],\n",
              "           [0.6863, 0.6941, 0.7098,  ..., 0.7961, 0.7882, 0.7804],\n",
              "           [0.6941, 0.7098, 0.7216,  ..., 0.8039, 0.8000, 0.7922],\n",
              "           ...,\n",
              "           [0.4980, 0.5020, 0.5059,  ..., 0.8471, 0.8549, 0.8392],\n",
              "           [0.5373, 0.5373, 0.5373,  ..., 0.8902, 0.8510, 0.7843],\n",
              "           [0.5255, 0.5294, 0.5333,  ..., 0.7020, 0.9412, 0.6118]]],\n",
              " \n",
              " \n",
              "         [[[0.8078, 0.8078, 0.8157,  ..., 0.7647, 0.7569, 0.7529],\n",
              "           [0.8196, 0.8196, 0.8196,  ..., 0.7647, 0.7647, 0.7569],\n",
              "           [0.8235, 0.8314, 0.8275,  ..., 0.7647, 0.7647, 0.7647],\n",
              "           ...,\n",
              "           [0.7451, 0.3804, 0.3882,  ..., 0.8431, 0.8431, 0.8353],\n",
              "           [0.4471, 0.3647, 0.3255,  ..., 0.8510, 0.8471, 0.8392],\n",
              "           [0.3922, 0.3490, 0.3059,  ..., 0.8510, 0.8471, 0.8431]]],\n",
              " \n",
              " \n",
              "         [[[0.5059, 0.5255, 0.5490,  ..., 0.6157, 0.6157, 0.6118],\n",
              "           [0.5137, 0.5294, 0.5490,  ..., 0.6196, 0.6235, 0.6235],\n",
              "           [0.5176, 0.5373, 0.5608,  ..., 0.6275, 0.6275, 0.6275],\n",
              "           ...,\n",
              "           [0.1608, 0.5725, 0.7333,  ..., 0.7059, 0.7059, 0.7020],\n",
              "           [0.1137, 0.1333, 0.3686,  ..., 0.7059, 0.7098, 0.7020],\n",
              "           [0.1373, 0.1255, 0.0902,  ..., 0.7098, 0.7098, 0.6980]]],\n",
              " \n",
              " \n",
              "         ...,\n",
              " \n",
              " \n",
              "         [[[0.6980, 0.7020, 0.7059,  ..., 0.6549, 0.6471, 0.6510],\n",
              "           [0.7098, 0.7098, 0.7137,  ..., 0.6667, 0.6588, 0.6549],\n",
              "           [0.7176, 0.7216, 0.7216,  ..., 0.6706, 0.6667, 0.6627],\n",
              "           ...,\n",
              "           [0.8196, 0.8196, 0.8235,  ..., 0.7843, 0.7804, 0.7765],\n",
              "           [0.8196, 0.8196, 0.8275,  ..., 0.7804, 0.7765, 0.7725],\n",
              "           [0.8196, 0.8196, 0.8275,  ..., 0.7804, 0.7804, 0.7765]]],\n",
              " \n",
              " \n",
              "         [[[0.5412, 0.5725, 0.5922,  ..., 0.7373, 0.7333, 0.7294],\n",
              "           [0.5451, 0.5725, 0.5961,  ..., 0.7412, 0.7373, 0.7373],\n",
              "           [0.5490, 0.5804, 0.5961,  ..., 0.7451, 0.7412, 0.7412],\n",
              "           ...,\n",
              "           [0.4980, 0.4980, 0.4980,  ..., 0.4667, 0.4549, 0.4549],\n",
              "           [0.4980, 0.4980, 0.4941,  ..., 0.4627, 0.4510, 0.4549],\n",
              "           [0.5020, 0.4941, 0.4941,  ..., 0.4549, 0.4549, 0.4627]]],\n",
              " \n",
              " \n",
              "         [[[0.6510, 0.6588, 0.6667,  ..., 0.3137, 0.2353, 0.2471],\n",
              "           [0.6588, 0.6706, 0.6784,  ..., 0.4745, 0.2471, 0.2275],\n",
              "           [0.6706, 0.6824, 0.6863,  ..., 0.5569, 0.2235, 0.1412],\n",
              "           ...,\n",
              "           [0.8549, 0.8118, 0.7961,  ..., 0.7686, 0.7608, 0.7529],\n",
              "           [0.8510, 0.8196, 0.7843,  ..., 0.7569, 0.7529, 0.7569],\n",
              "           [0.8392, 0.7882, 0.7137,  ..., 0.7569, 0.7647, 0.6196]]]],\n",
              "        device='cuda:0'),\n",
              " tensor([21,  4, 22, 16, 20, 10, 17,  9, 18, 20,  9, 18,  4,  4, 13, 23, 23, 14,\n",
              "         15, 18, 20, 23, 19, 15,  0,  8,  3, 21,  7,  1, 12,  7],\n",
              "        device='cuda:0')]"
            ]
          },
          "metadata": {},
          "execution_count": 19
        }
      ]
    },
    {
      "cell_type": "code",
      "source": [
        "batch[0].shape"
      ],
      "metadata": {
        "colab": {
          "base_uri": "https://localhost:8080/"
        },
        "id": "980UkpMHwDoL",
        "outputId": "065a13c1-98ee-42cd-e857-2009815197cf"
      },
      "execution_count": 20,
      "outputs": [
        {
          "output_type": "execute_result",
          "data": {
            "text/plain": [
              "torch.Size([32, 1, 28, 28])"
            ]
          },
          "metadata": {},
          "execution_count": 20
        }
      ]
    },
    {
      "cell_type": "code",
      "source": [
        "batch[1].shape"
      ],
      "metadata": {
        "colab": {
          "base_uri": "https://localhost:8080/"
        },
        "id": "aLuHpC1EwekR",
        "outputId": "ca7a108e-8c7e-46c1-848a-a436ed1d6ab9"
      },
      "execution_count": 21,
      "outputs": [
        {
          "output_type": "execute_result",
          "data": {
            "text/plain": [
              "torch.Size([32])"
            ]
          },
          "metadata": {},
          "execution_count": 21
        }
      ]
    },
    {
      "cell_type": "markdown",
      "source": [
        "#CNN Model"
      ],
      "metadata": {
        "id": "ZWXBGes1wj1s"
      }
    },
    {
      "cell_type": "code",
      "source": [
        "n_classes = 24\n",
        "kernel_size = 3\n",
        "flattened_img_size = 75*3*3\n",
        "\n",
        "model = nn.Sequential(\n",
        "    #First\n",
        "    nn.Conv2d(img_chs, 25, kernel_size, stride=1, padding=1),\n",
        "    nn.BatchNorm2d(25),\n",
        "    nn.ReLU(),\n",
        "    nn.MaxPool2d(2, stride = 2),\n",
        "    #Second\n",
        "    nn.Conv2d(25, 50, kernel_size, stride=1, padding=1),\n",
        "    nn.BatchNorm2d(50),\n",
        "    nn.ReLU(),\n",
        "    nn.Dropout(.2),\n",
        "    nn.MaxPool2d(2, stride = 2),\n",
        "    #Third\n",
        "    nn.Conv2d(50, 75, kernel_size, stride=1, padding=1),\n",
        "    nn.BatchNorm2d(75),\n",
        "    nn.ReLU(),\n",
        "    nn.MaxPool2d(2, stride = 2),\n",
        "    #Flatten\n",
        "    nn.Flatten(),\n",
        "    nn.Linear(flattened_img_size, 512),\n",
        "    nn.Dropout(.3),\n",
        "    nn.ReLU(),\n",
        "    nn.Linear(512, n_classes)\n",
        ")"
      ],
      "metadata": {
        "id": "OzLSnC8iwfeo"
      },
      "execution_count": 25,
      "outputs": []
    },
    {
      "cell_type": "code",
      "source": [
        "model = torch.compile(model.to(device))\n",
        "model"
      ],
      "metadata": {
        "colab": {
          "base_uri": "https://localhost:8080/"
        },
        "id": "T6VnE2vrxzIE",
        "outputId": "f7b71a4d-0b5e-4ab5-99f8-3aebfbc6de19"
      },
      "execution_count": 26,
      "outputs": [
        {
          "output_type": "execute_result",
          "data": {
            "text/plain": [
              "OptimizedModule(\n",
              "  (_orig_mod): Sequential(\n",
              "    (0): Conv2d(1, 25, kernel_size=(3, 3), stride=(1, 1), padding=(1, 1))\n",
              "    (1): BatchNorm2d(25, eps=1e-05, momentum=0.1, affine=True, track_running_stats=True)\n",
              "    (2): ReLU()\n",
              "    (3): MaxPool2d(kernel_size=2, stride=2, padding=0, dilation=1, ceil_mode=False)\n",
              "    (4): Conv2d(25, 50, kernel_size=(3, 3), stride=(1, 1), padding=(1, 1))\n",
              "    (5): BatchNorm2d(50, eps=1e-05, momentum=0.1, affine=True, track_running_stats=True)\n",
              "    (6): ReLU()\n",
              "    (7): Dropout(p=0.2, inplace=False)\n",
              "    (8): MaxPool2d(kernel_size=2, stride=2, padding=0, dilation=1, ceil_mode=False)\n",
              "    (9): Conv2d(50, 75, kernel_size=(3, 3), stride=(1, 1), padding=(1, 1))\n",
              "    (10): BatchNorm2d(75, eps=1e-05, momentum=0.1, affine=True, track_running_stats=True)\n",
              "    (11): ReLU()\n",
              "    (12): MaxPool2d(kernel_size=2, stride=2, padding=0, dilation=1, ceil_mode=False)\n",
              "    (13): Flatten(start_dim=1, end_dim=-1)\n",
              "    (14): Linear(in_features=675, out_features=512, bias=True)\n",
              "    (15): Dropout(p=0.3, inplace=False)\n",
              "    (16): ReLU()\n",
              "    (17): Linear(in_features=512, out_features=24, bias=True)\n",
              "  )\n",
              ")"
            ]
          },
          "metadata": {},
          "execution_count": 26
        }
      ]
    },
    {
      "cell_type": "code",
      "source": [
        "loss_function = nn.CrossEntropyLoss()\n",
        "optimizer = Adam(model.parameters())"
      ],
      "metadata": {
        "id": "AIuCgYOCyBZq"
      },
      "execution_count": 27,
      "outputs": []
    },
    {
      "cell_type": "code",
      "source": [
        "def get_batch_accuracy(output, y, N):\n",
        "    pred = output.argmax(dim=1, keepdim=True)\n",
        "    correct = pred.eq(y.view_as(pred)).sum().item()\n",
        "    return correct / N"
      ],
      "metadata": {
        "id": "Yg1I9DA6yMnG"
      },
      "execution_count": 33,
      "outputs": []
    },
    {
      "cell_type": "markdown",
      "source": [
        "#Training"
      ],
      "metadata": {
        "id": "CsQi6nxCydAZ"
      }
    },
    {
      "cell_type": "code",
      "source": [
        "def train():\n",
        "    loss = 0\n",
        "    accuracy = 0\n",
        "\n",
        "    model.train()\n",
        "    for x, y in train_loader:\n",
        "        output = model(x)\n",
        "        optimizer.zero_grad()\n",
        "        batch_loss = loss_function(output, y)\n",
        "        batch_loss.backward()\n",
        "        optimizer.step()\n",
        "\n",
        "        loss += batch_loss.item()\n",
        "        accuracy += get_batch_accuracy(output, y, train_N)\n",
        "    print('Train - Loss: {:.4f} Accuracy: {:.4f}'.format(loss, accuracy))"
      ],
      "metadata": {
        "id": "O9I-sU9rzHid"
      },
      "execution_count": 34,
      "outputs": []
    },
    {
      "cell_type": "code",
      "source": [
        "def validate():\n",
        "    loss = 0\n",
        "    accuracy = 0\n",
        "\n",
        "    model.eval()\n",
        "    with torch.no_grad():\n",
        "        for x, y in valid_loader:\n",
        "            output = model(x)\n",
        "\n",
        "            loss += loss_function(output, y).item()\n",
        "            accuracy += get_batch_accuracy(output, y, valid_N)\n",
        "    print('Valid - Loss: {:.4f} Accuracy: {:.4f}'.format(loss, accuracy))"
      ],
      "metadata": {
        "id": "DfwVm_Jtybpd"
      },
      "execution_count": 37,
      "outputs": []
    },
    {
      "cell_type": "code",
      "source": [
        "epochs = 20\n",
        "\n",
        "for epoch in range(epochs):\n",
        "    print('Epoch: {}'.format(epoch))\n",
        "    train()\n",
        "    validate()"
      ],
      "metadata": {
        "colab": {
          "base_uri": "https://localhost:8080/"
        },
        "id": "uATMI1IjzDaz",
        "outputId": "4bbcf83a-b991-4363-a7fc-64fe64620a5f"
      },
      "execution_count": 38,
      "outputs": [
        {
          "output_type": "stream",
          "name": "stdout",
          "text": [
            "Epoch: 0\n",
            "Train - Loss: 7.7375 Accuracy: 0.9978\n",
            "Valid - Loss: 20.0500 Accuracy: 0.9743\n",
            "Epoch: 1\n",
            "Train - Loss: 1.9676 Accuracy: 0.9995\n",
            "Valid - Loss: 18.2076 Accuracy: 0.9767\n",
            "Epoch: 2\n",
            "Train - Loss: 6.2344 Accuracy: 0.9978\n",
            "Valid - Loss: 21.5801 Accuracy: 0.9757\n",
            "Epoch: 3\n",
            "Train - Loss: 0.7750 Accuracy: 0.9998\n",
            "Valid - Loss: 59.4457 Accuracy: 0.9286\n",
            "Epoch: 4\n",
            "Train - Loss: 9.6023 Accuracy: 0.9969\n",
            "Valid - Loss: 32.6562 Accuracy: 0.9658\n",
            "Epoch: 5\n",
            "Train - Loss: 7.3993 Accuracy: 0.9979\n",
            "Valid - Loss: 34.5925 Accuracy: 0.9551\n",
            "Epoch: 6\n",
            "Train - Loss: 1.6282 Accuracy: 0.9995\n",
            "Valid - Loss: 47.6087 Accuracy: 0.9596\n",
            "Epoch: 7\n",
            "Train - Loss: 2.0823 Accuracy: 0.9992\n",
            "Valid - Loss: 35.3420 Accuracy: 0.9696\n",
            "Epoch: 8\n",
            "Train - Loss: 7.0001 Accuracy: 0.9978\n",
            "Valid - Loss: 27.8267 Accuracy: 0.9776\n",
            "Epoch: 9\n",
            "Train - Loss: 2.4595 Accuracy: 0.9989\n",
            "Valid - Loss: 23.1830 Accuracy: 0.9769\n",
            "Epoch: 10\n",
            "Train - Loss: 3.5046 Accuracy: 0.9987\n",
            "Valid - Loss: 27.0667 Accuracy: 0.9755\n",
            "Epoch: 11\n",
            "Train - Loss: 0.1202 Accuracy: 1.0000\n",
            "Valid - Loss: 22.4791 Accuracy: 0.9760\n",
            "Epoch: 12\n",
            "Train - Loss: 5.1799 Accuracy: 0.9982\n",
            "Valid - Loss: 89.7443 Accuracy: 0.9299\n",
            "Epoch: 13\n",
            "Train - Loss: 3.0548 Accuracy: 0.9989\n",
            "Valid - Loss: 33.9828 Accuracy: 0.9742\n",
            "Epoch: 14\n",
            "Train - Loss: 2.7335 Accuracy: 0.9990\n",
            "Valid - Loss: 36.0978 Accuracy: 0.9760\n",
            "Epoch: 15\n",
            "Train - Loss: 3.2378 Accuracy: 0.9989\n",
            "Valid - Loss: 21.5003 Accuracy: 0.9769\n",
            "Epoch: 16\n",
            "Train - Loss: 2.3905 Accuracy: 0.9991\n",
            "Valid - Loss: 26.0406 Accuracy: 0.9777\n",
            "Epoch: 17\n",
            "Train - Loss: 2.4405 Accuracy: 0.9991\n",
            "Valid - Loss: 42.3312 Accuracy: 0.9667\n",
            "Epoch: 18\n",
            "Train - Loss: 1.8358 Accuracy: 0.9996\n",
            "Valid - Loss: 31.0340 Accuracy: 0.9745\n",
            "Epoch: 19\n",
            "Train - Loss: 0.1747 Accuracy: 0.9999\n",
            "Valid - Loss: 50.4357 Accuracy: 0.9683\n"
          ]
        }
      ]
    },
    {
      "cell_type": "markdown",
      "source": [
        "The training accuracy is very high, and the validation accuracy is also high as well."
      ],
      "metadata": {
        "id": "wAN9nVrnzV6-"
      }
    },
    {
      "cell_type": "code",
      "source": [],
      "metadata": {
        "id": "_NocgBrJzQHY"
      },
      "execution_count": null,
      "outputs": []
    }
  ]
}